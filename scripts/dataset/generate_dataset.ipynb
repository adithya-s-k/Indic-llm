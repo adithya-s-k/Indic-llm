{
 "cells": [
  {
   "cell_type": "code",
   "execution_count": null,
   "metadata": {},
   "outputs": [],
   "source": [
    "!pip install ipywidgets"
   ]
  },
  {
   "cell_type": "code",
   "execution_count": null,
   "metadata": {},
   "outputs": [],
   "source": [
    "from huggingface_hub import notebook_login\n",
    "from datasets import load_dataset\n",
    "notebook_login()"
   ]
  },
  {
   "cell_type": "code",
   "execution_count": null,
   "metadata": {},
   "outputs": [],
   "source": [
    "import json\n",
    "import os\n",
    "import pandas as pd\n",
    "from datasets import load_dataset\n",
    "from tqdm import tqdm\n",
    "\n",
    "# Create the \"output\" folder if it doesn't exist\n",
    "output_folder = \"output\"\n",
    "os.makedirs(output_folder, exist_ok=True)\n",
    "\n",
    "dataset_list = [\n",
    "    {\"hf_datasets\": \"wikimedia/wikipedia\", \"hf_corpus_paths\": \"20231101.kn\"},\n",
    "    {\"hf_datasets\": \"mc4\", \"hf_corpus_paths\": \"kn\"},\n",
    "    {\"hf_datasets\": \"uonlp/CulturaX\", \"hf_corpus_paths\": \"kn\"},\n",
    "]\n",
    "all_data_points = []  # List to store all data points\n",
    "\n",
    "for dataset_config in dataset_list:\n",
    "    hf_datasets = dataset_config[\"hf_datasets\"]\n",
    "    hf_corpus_paths = dataset_config[\"hf_corpus_paths\"]\n",
    "\n",
    "    dataset_identifier = hf_datasets.split(\"/\")[-1]  # Consider only the right half after '/'\n",
    "\n",
    "    dataset = load_dataset(hf_datasets, hf_corpus_paths, split=\"train\", trust_remote_code=True)\n",
    "\n",
    "    current_data_points = []  # List to store data points from the current dataset\n",
    "\n",
    "    for data_point in dataset:\n",
    "        text = data_point[\"text\"]\n",
    "        source = dataset_identifier  # Use the modified dataset identifier\n",
    "\n",
    "        json_entry = {\n",
    "            \"text\": text,\n",
    "            \"source\": source\n",
    "        }\n",
    "\n",
    "        current_data_points.append(json_entry)  # Add the data point to the current dataset list\n",
    "        all_data_points.append(json_entry)  # Add the data point to the overall list\n",
    "\n",
    "    # Save the data points from the current dataset to a JSON file in the \"output\" folder\n",
    "    output_file_path = os.path.join(output_folder, f\"{dataset_identifier}_output.json\")\n",
    "    with open(output_file_path, \"w\", encoding=\"utf-8\") as json_file:\n",
    "        json.dump(current_data_points, json_file, ensure_ascii=False, indent=2)\n",
    "\n",
    "    print(f\"Data points from {dataset_identifier} saved to {output_file_path}\")\n",
    "\n",
    "# Save the overall list of data points to a final JSON file in the \"output\" folder\n",
    "final_output_file_path = os.path.join(output_folder, \"all_data_points_output.json\")\n",
    "with open(final_output_file_path, \"w\", encoding=\"utf-8\") as json_file:\n",
    "    json.dump(all_data_points, json_file, ensure_ascii=False, indent=2)\n",
    "\n",
    "print(f\"All data points saved to {final_output_file_path}\")\n"
   ]
  },
  {
   "cell_type": "code",
   "execution_count": null,
   "metadata": {},
   "outputs": [],
   "source": [
    "dataset = load_dataset('json', data_files='./output/wikipedia_output.json' , split='train')"
   ]
  },
  {
   "cell_type": "code",
   "execution_count": null,
   "metadata": {},
   "outputs": [],
   "source": [
    "print(dataset['text'][:10])"
   ]
  },
  {
   "cell_type": "code",
   "execution_count": null,
   "metadata": {},
   "outputs": [],
   "source": [
    "dataset.push_to_hub(\"CognitiveLab/Project_K_TrainDataset_Small\" ,private=True)"
   ]
  },
  {
   "cell_type": "code",
   "execution_count": null,
   "metadata": {},
   "outputs": [],
   "source": []
  }
 ],
 "metadata": {
  "kernelspec": {
   "display_name": "training-venv",
   "language": "python",
   "name": "python3"
  },
  "language_info": {
   "codemirror_mode": {
    "name": "ipython",
    "version": 3
   },
   "file_extension": ".py",
   "mimetype": "text/x-python",
   "name": "python",
   "nbconvert_exporter": "python",
   "pygments_lexer": "ipython3",
   "version": "3.9.18"
  }
 },
 "nbformat": 4,
 "nbformat_minor": 2
}
